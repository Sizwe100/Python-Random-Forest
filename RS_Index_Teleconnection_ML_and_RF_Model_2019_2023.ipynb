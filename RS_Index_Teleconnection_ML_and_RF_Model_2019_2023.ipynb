{
  "nbformat": 4,
  "nbformat_minor": 0,
  "metadata": {
    "colab": {
      "provenance": [],
      "include_colab_link": true
    },
    "kernelspec": {
      "name": "python3",
      "display_name": "Python 3"
    },
    "language_info": {
      "name": "python"
    }
  },
  "cells": [
    {
      "cell_type": "markdown",
      "metadata": {
        "id": "view-in-github",
        "colab_type": "text"
      },
      "source": [
        "<a href=\"https://colab.research.google.com/github/Sizwe100/Python-Random-Forest/blob/main/RS_Index_Teleconnection_ML_and_RF_Model_2019_2023.ipynb\" target=\"_parent\"><img src=\"https://colab.research.google.com/assets/colab-badge.svg\" alt=\"Open In Colab\"/></a>"
      ]
    },
    {
      "cell_type": "code",
      "source": [
        "# MSc Project Analysis\n",
        "# Authors: Nkanyiso and Sizwe\n",
        "# Institution: University of Zululand\n",
        "# Date: 15/12/2024\n",
        "\n",
        "# Required Libraries\n",
        "import pandas as pd\n",
        "import numpy as np\n",
        "import seaborn as sns\n",
        "import matplotlib.pyplot as plt\n",
        "from scipy.interpolate import interp1d\n",
        "from sklearn.ensemble import RandomForestRegressor\n",
        "from sklearn.model_selection import train_test_split\n",
        "from sklearn.metrics import mean_squared_error, r2_score\n",
        "import pandas as pd\n",
        "import matplotlib.pyplot as plt\n",
        "from datetime import datetime\n",
        "from matplotlib.dates import DateFormatter, YearLocator"
      ],
      "metadata": {
        "id": "OA0fkwY_Exqt"
      },
      "execution_count": 1,
      "outputs": []
    },
    {
      "cell_type": "code",
      "execution_count": null,
      "metadata": {
        "colab": {
          "base_uri": "https://localhost:8080/",
          "height": 76
        },
        "id": "1lFaFg4axHof",
        "outputId": "fa57370a-5f73-436e-9a79-ad804d523ad2"
      },
      "outputs": [
        {
          "output_type": "display_data",
          "data": {
            "text/plain": [
              "<IPython.core.display.HTML object>"
            ],
            "text/html": [
              "\n",
              "     <input type=\"file\" id=\"files-da95cdb7-1791-4ae1-ab8b-2aebc999ca21\" name=\"files[]\" multiple disabled\n",
              "        style=\"border:none\" />\n",
              "     <output id=\"result-da95cdb7-1791-4ae1-ab8b-2aebc999ca21\">\n",
              "      Upload widget is only available when the cell has been executed in the\n",
              "      current browser session. Please rerun this cell to enable.\n",
              "      </output>\n",
              "      <script>// Copyright 2017 Google LLC\n",
              "//\n",
              "// Licensed under the Apache License, Version 2.0 (the \"License\");\n",
              "// you may not use this file except in compliance with the License.\n",
              "// You may obtain a copy of the License at\n",
              "//\n",
              "//      http://www.apache.org/licenses/LICENSE-2.0\n",
              "//\n",
              "// Unless required by applicable law or agreed to in writing, software\n",
              "// distributed under the License is distributed on an \"AS IS\" BASIS,\n",
              "// WITHOUT WARRANTIES OR CONDITIONS OF ANY KIND, either express or implied.\n",
              "// See the License for the specific language governing permissions and\n",
              "// limitations under the License.\n",
              "\n",
              "/**\n",
              " * @fileoverview Helpers for google.colab Python module.\n",
              " */\n",
              "(function(scope) {\n",
              "function span(text, styleAttributes = {}) {\n",
              "  const element = document.createElement('span');\n",
              "  element.textContent = text;\n",
              "  for (const key of Object.keys(styleAttributes)) {\n",
              "    element.style[key] = styleAttributes[key];\n",
              "  }\n",
              "  return element;\n",
              "}\n",
              "\n",
              "// Max number of bytes which will be uploaded at a time.\n",
              "const MAX_PAYLOAD_SIZE = 100 * 1024;\n",
              "\n",
              "function _uploadFiles(inputId, outputId) {\n",
              "  const steps = uploadFilesStep(inputId, outputId);\n",
              "  const outputElement = document.getElementById(outputId);\n",
              "  // Cache steps on the outputElement to make it available for the next call\n",
              "  // to uploadFilesContinue from Python.\n",
              "  outputElement.steps = steps;\n",
              "\n",
              "  return _uploadFilesContinue(outputId);\n",
              "}\n",
              "\n",
              "// This is roughly an async generator (not supported in the browser yet),\n",
              "// where there are multiple asynchronous steps and the Python side is going\n",
              "// to poll for completion of each step.\n",
              "// This uses a Promise to block the python side on completion of each step,\n",
              "// then passes the result of the previous step as the input to the next step.\n",
              "function _uploadFilesContinue(outputId) {\n",
              "  const outputElement = document.getElementById(outputId);\n",
              "  const steps = outputElement.steps;\n",
              "\n",
              "  const next = steps.next(outputElement.lastPromiseValue);\n",
              "  return Promise.resolve(next.value.promise).then((value) => {\n",
              "    // Cache the last promise value to make it available to the next\n",
              "    // step of the generator.\n",
              "    outputElement.lastPromiseValue = value;\n",
              "    return next.value.response;\n",
              "  });\n",
              "}\n",
              "\n",
              "/**\n",
              " * Generator function which is called between each async step of the upload\n",
              " * process.\n",
              " * @param {string} inputId Element ID of the input file picker element.\n",
              " * @param {string} outputId Element ID of the output display.\n",
              " * @return {!Iterable<!Object>} Iterable of next steps.\n",
              " */\n",
              "function* uploadFilesStep(inputId, outputId) {\n",
              "  const inputElement = document.getElementById(inputId);\n",
              "  inputElement.disabled = false;\n",
              "\n",
              "  const outputElement = document.getElementById(outputId);\n",
              "  outputElement.innerHTML = '';\n",
              "\n",
              "  const pickedPromise = new Promise((resolve) => {\n",
              "    inputElement.addEventListener('change', (e) => {\n",
              "      resolve(e.target.files);\n",
              "    });\n",
              "  });\n",
              "\n",
              "  const cancel = document.createElement('button');\n",
              "  inputElement.parentElement.appendChild(cancel);\n",
              "  cancel.textContent = 'Cancel upload';\n",
              "  const cancelPromise = new Promise((resolve) => {\n",
              "    cancel.onclick = () => {\n",
              "      resolve(null);\n",
              "    };\n",
              "  });\n",
              "\n",
              "  // Wait for the user to pick the files.\n",
              "  const files = yield {\n",
              "    promise: Promise.race([pickedPromise, cancelPromise]),\n",
              "    response: {\n",
              "      action: 'starting',\n",
              "    }\n",
              "  };\n",
              "\n",
              "  cancel.remove();\n",
              "\n",
              "  // Disable the input element since further picks are not allowed.\n",
              "  inputElement.disabled = true;\n",
              "\n",
              "  if (!files) {\n",
              "    return {\n",
              "      response: {\n",
              "        action: 'complete',\n",
              "      }\n",
              "    };\n",
              "  }\n",
              "\n",
              "  for (const file of files) {\n",
              "    const li = document.createElement('li');\n",
              "    li.append(span(file.name, {fontWeight: 'bold'}));\n",
              "    li.append(span(\n",
              "        `(${file.type || 'n/a'}) - ${file.size} bytes, ` +\n",
              "        `last modified: ${\n",
              "            file.lastModifiedDate ? file.lastModifiedDate.toLocaleDateString() :\n",
              "                                    'n/a'} - `));\n",
              "    const percent = span('0% done');\n",
              "    li.appendChild(percent);\n",
              "\n",
              "    outputElement.appendChild(li);\n",
              "\n",
              "    const fileDataPromise = new Promise((resolve) => {\n",
              "      const reader = new FileReader();\n",
              "      reader.onload = (e) => {\n",
              "        resolve(e.target.result);\n",
              "      };\n",
              "      reader.readAsArrayBuffer(file);\n",
              "    });\n",
              "    // Wait for the data to be ready.\n",
              "    let fileData = yield {\n",
              "      promise: fileDataPromise,\n",
              "      response: {\n",
              "        action: 'continue',\n",
              "      }\n",
              "    };\n",
              "\n",
              "    // Use a chunked sending to avoid message size limits. See b/62115660.\n",
              "    let position = 0;\n",
              "    do {\n",
              "      const length = Math.min(fileData.byteLength - position, MAX_PAYLOAD_SIZE);\n",
              "      const chunk = new Uint8Array(fileData, position, length);\n",
              "      position += length;\n",
              "\n",
              "      const base64 = btoa(String.fromCharCode.apply(null, chunk));\n",
              "      yield {\n",
              "        response: {\n",
              "          action: 'append',\n",
              "          file: file.name,\n",
              "          data: base64,\n",
              "        },\n",
              "      };\n",
              "\n",
              "      let percentDone = fileData.byteLength === 0 ?\n",
              "          100 :\n",
              "          Math.round((position / fileData.byteLength) * 100);\n",
              "      percent.textContent = `${percentDone}% done`;\n",
              "\n",
              "    } while (position < fileData.byteLength);\n",
              "  }\n",
              "\n",
              "  // All done.\n",
              "  yield {\n",
              "    response: {\n",
              "      action: 'complete',\n",
              "    }\n",
              "  };\n",
              "}\n",
              "\n",
              "scope.google = scope.google || {};\n",
              "scope.google.colab = scope.google.colab || {};\n",
              "scope.google.colab._files = {\n",
              "  _uploadFiles,\n",
              "  _uploadFilesContinue,\n",
              "};\n",
              "})(self);\n",
              "</script> "
            ]
          },
          "metadata": {}
        },
        {
          "output_type": "stream",
          "name": "stdout",
          "text": [
            "Saving EVI.csv to EVI.csv\n"
          ]
        }
      ],
      "source": [
        "# Reading the Data\n",
        "data_path = \"C:/R/Sizwe/MonthlyRemoteSensingData3_Mtuba.csv\"\n",
        "mydata = pd.read_csv(data_path, sep=\";\")\n",
        "\n",
        "from google.colab import files\n",
        "uploaded = files.upload()"
      ]
    },
    {
      "cell_type": "code",
      "source": [
        "# Converting date column to datetime\n",
        "mydata['date'] = pd.to_datetime(mydata['date'], format=\"%Y/%m/%d\")\n",
        "\n",
        "# Display the first few rows of the data\n",
        "print(mydata.head(3))"
      ],
      "metadata": {
        "id": "FtOEdCQfkxj3"
      },
      "execution_count": null,
      "outputs": []
    },
    {
      "cell_type": "code",
      "source": [
        "# Example Time Series Plot\n",
        "plt.figure(figsize=(10, 5))\n",
        "plt.plot(mydata['date'], mydata['ET'], label='Evapotranspiration (ET)')\n",
        "plt.xlabel('Date')\n",
        "plt.ylabel('ET (kg/m^2/8day)')\n",
        "plt.title('Keiskammahoek ET Time Series')\n",
        "plt.legend()\n",
        "plt.grid()\n",
        "plt.show()"
      ],
      "metadata": {
        "id": "3fVzKx6Ukxzx"
      },
      "execution_count": null,
      "outputs": []
    },
    {
      "cell_type": "code",
      "source": [
        "# Data Interpolation (SPEI3 and SPI3)\n",
        "for col in ['SPEI3', 'SPI3']:\n",
        "    non_na_data = mydata.dropna(subset=[col])\n",
        "    f = interp1d(non_na_data.index, non_na_data[col], kind='cubic', fill_value=\"extrapolate\")\n",
        "    mydata[col] = f(np.arange(len(mydata)))\n",
        "\n",
        "# Trend Analysis Example (Visualization Only)\n",
        "def plot_trend(data, variable, ylabel, title):\n",
        "    sns.regplot(x=data.index, y=data[variable], ci=None, scatter_kws={'s': 10}, line_kws={'color': 'red'})\n",
        "    plt.xlabel('Index')\n",
        "    plt.ylabel(ylabel)\n",
        "    plt.title(title)\n",
        "    plt.show()\n",
        "\n",
        "plot_trend(mydata, 'VCI', ylabel='VCI Index', title='Trend in VCI (Mtuba)')"
      ],
      "metadata": {
        "id": "89znGRGClG6I"
      },
      "execution_count": null,
      "outputs": []
    },
    {
      "cell_type": "code",
      "source": [
        "# Correlation Matrix\n",
        "corr_matrix = mydata.iloc[:, 1:].corr()  # Exclude date column\n",
        "sns.heatmap(corr_matrix, annot=True, cmap=\"coolwarm\", fmt=\".2f\")\n",
        "plt.title('Correlation Matrix Heatmap')\n",
        "plt.show()\n",
        "\n",
        "# Random Forest Model\n",
        "# Preparing Data for Random Forest\n",
        "features = mydata[['Nino3.4', 'DMI', 'ET', 'SPI3', 'SPEI3', 'SAVI', 'MSAVI', 'EVI', 'RF', 'NDVI']]\n",
        "labels = mydata['VCI']\n",
        "\n",
        "X_train, X_test, y_train, y_test = train_test_split(features, labels, test_size=0.3, random_state=42)"
      ],
      "metadata": {
        "id": "Z1eFmCUYlHEk"
      },
      "execution_count": null,
      "outputs": []
    },
    {
      "cell_type": "code",
      "source": [
        "# Training the Model\n",
        "rf_model = RandomForestRegressor(n_estimators=300, random_state=42)\n",
        "rf_model.fit(X_train, y_train)\n",
        "\n",
        "# Variable Importance\n",
        "importances = rf_model.feature_importances_\n",
        "feature_importance_df = pd.DataFrame({\"Feature\": features.columns, \"Importance\": importances}).sort_values(by=\"Importance\", ascending=False)\n",
        "print(feature_importance_df)\n",
        "\n",
        "sns.barplot(x=\"Importance\", y=\"Feature\", data=feature_importance_df)\n",
        "plt.title('Feature Importance in Random Forest')\n",
        "plt.show()"
      ],
      "metadata": {
        "id": "Bp5uDFAUlWGW"
      },
      "execution_count": null,
      "outputs": []
    },
    {
      "cell_type": "code",
      "source": [
        "# Predictions and Model Evaluation\n",
        "train_preds = rf_model.predict(X_train)\n",
        "test_preds = rf_model.predict(X_test)\n",
        "\n",
        "print(\"Train R^2:\", r2_score(y_train, train_preds))\n",
        "print(\"Test R^2:\", r2_score(y_test, test_preds))\n",
        "print(\"Test RMSE:\", np.sqrt(mean_squared_error(y_test, test_preds)))\n",
        "\n",
        "# Sequential Mann-Kendall Test (Placeholder - Requires External Library)\n",
        "# For real implementation, use PyMannKendall or similar package.\n",
        "def seq_mk_test(data, variable):\n",
        "    from pymannkendall import original_test\n",
        "    result = original_test(data[variable])\n",
        "    return result\n",
        "\n",
        "# Example\n",
        "# mk_result = seq_mk_test(mydata, 'VCI')\n",
        "# print(mk_result)\n"
      ],
      "metadata": {
        "colab": {
          "base_uri": "https://localhost:8080/"
        },
        "id": "qUeufsfKz39d",
        "outputId": "c7679bc9-eeec-49a8-a7a6-51dd9c1116e5"
      },
      "execution_count": null,
      "outputs": [
        {
          "output_type": "stream",
          "name": "stdout",
          "text": [
            "         date  EVI_LaChagra   EVI_UVS   Nino3.4\n",
            "0  2019/03/31      0.596020  0.456100  0.867725\n",
            "1  2019/04/30      0.533050  0.475743  0.740107\n",
            "2  2019/05/31      0.511700  0.418975  0.685350\n",
            "3  2019/06/30      0.442189  0.389600  0.595610\n",
            "4  2019/07/31      0.386030  0.368830  0.477663\n"
          ]
        }
      ]
    }
  ]
}